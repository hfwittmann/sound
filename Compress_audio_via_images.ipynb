{
 "cells": [
  {
   "cell_type": "markdown",
   "metadata": {},
   "source": [
    "In this notebook we will use image compression technique to compress audio signals.\n",
    "\n",
    "The audio files in this notebook are from the ESC-50 dataset:\n",
    "    - ESC-50: Dataset for Environmental Sound Classification\n",
    "    - https://github.com/karoldvl/ESC-50/\n",
    "    - https://dx.doi.org/10.7910/DVN/YDEPUT\n",
    "\n",
    "\n",
    "A good application of svd and a demo for images is here:\n",
    "http://timbaumann.info/svd-image-compression-demo/\n",
    "\n",
    "\n",
    "The outline is as follows:\n",
    "\n",
    "- Show a function that compresses an image (with a matrix based technique called svd)\n",
    "- Load "
   ]
  },
  {
   "cell_type": "code",
   "execution_count": 23,
   "metadata": {},
   "outputs": [],
   "source": [
    "%matplotlib inline\n",
    "import numpy as np"
   ]
  },
  {
   "cell_type": "markdown",
   "metadata": {},
   "source": [
    "# Define plotting helper functions"
   ]
  },
  {
   "cell_type": "code",
   "execution_count": 24,
   "metadata": {},
   "outputs": [],
   "source": [
    "from librosa import display\n",
    "\n",
    "def plot_spectrum (data, name):\n",
    "    display.specshow(data, y_axis='log', x_axis='time')\n",
    "    plt.title(f'Power spectrogram of {name}')\n",
    "    plt.colorbar(format='%+2.0f dB')\n",
    "    plt.tight_layout()\n",
    "    # plt.show()"
   ]
  },
  {
   "cell_type": "markdown",
   "metadata": {},
   "source": [
    "# Define compression helper functions"
   ]
  },
  {
   "cell_type": "code",
   "execution_count": 25,
   "metadata": {},
   "outputs": [],
   "source": [
    "random_seed = 0\n",
    "from sklearn.decomposition import TruncatedSVD\n",
    "np.random.seed(random_seed)\n",
    "\n",
    "def compress(imageIn, n_components=100,random_seed=0):\n",
    "    \n",
    "    image = imageIn\n",
    "    \n",
    "    if len (image.shape) == 2:\n",
    "        # print('Found Gray image')\n",
    "        image = image[:,:,np.newaxis] # Equivalent to x[:,np.newaxis]\n",
    "    \n",
    "    if len (image.shape) == 3:\n",
    "        # print('Found RGB image')\n",
    "        pass\n",
    "        \n",
    "    if len (image.shape) > 3:\n",
    "        raise('not sure what image type this')\n",
    "        \n",
    "    n_of_layers = image.shape[2]\n",
    "    \n",
    "    compressed_list = []\n",
    "    \n",
    "    for layer in range(n_of_layers):\n",
    "        # print(layer)\n",
    "        image_layer = image[:,:,layer] # ie r, g or b\n",
    "        \n",
    "        clf = TruncatedSVD(n_components=n_components)\n",
    "        clf.fit(image_layer)\n",
    "        compressed_layer = clf.inverse_transform(clf.transform(image_layer))\n",
    "        \n",
    "        compressed_list.append(compressed_layer)\n",
    "        \n",
    "        \n",
    "    compressed = np.stack(compressed_list, axis=2)\n",
    "    \n",
    "    \n",
    "    \n",
    "    # clip to expected range\n",
    "    compressed = np.clip(compressed, a_min=0, a_max=255)\n",
    "    \n",
    "    # cast to same dtype as original image\n",
    "    compressed = np.array(compressed, dtype = image.dtype)\n",
    "    \n",
    "    # reshape to original image size\n",
    "    compressed = compressed.reshape(imageIn.shape)\n",
    "    \n",
    "    return compressed"
   ]
  },
  {
   "cell_type": "code",
   "execution_count": 26,
   "metadata": {},
   "outputs": [],
   "source": [
    "def compress_complex(complex_image, n_components=100,random_seed=0, doplot=False):\n",
    "    '''\n",
    "    complex in the sense of complex numbers,\n",
    "    https://en.wikipedia.org/wiki/Complex_number\n",
    "    \n",
    "    ie having a real and an imaginary part\n",
    "    \n",
    "    '''\n",
    "    real = np.real(complex_image)\n",
    "    imag = np.imag(complex_image)\n",
    "    \n",
    "    compress_real = compress(real, n_components, random_seed)\n",
    "    compress_imag = compress(real, n_components, random_seed)\n",
    "    \n",
    "    if doplot:\n",
    "        plot_spectrum(real, 'Real Part')\n",
    "        plot_spectrum(compress_real, 'Real Part Compressed')\n",
    "        \n",
    "        plot_spectrum(imag, 'Imaginary Part')\n",
    "        plot_spectrum(compress_imag, 'Imaginary Part Compressed')\n",
    "    \n",
    "    compressed = compress_real + 1j * compress_imag\n",
    "    return compressed\n",
    "    "
   ]
  },
  {
   "cell_type": "markdown",
   "metadata": {},
   "source": [
    "# Compress Images"
   ]
  },
  {
   "cell_type": "code",
   "execution_count": 27,
   "metadata": {},
   "outputs": [],
   "source": [
    "from sklearn.datasets import load_sample_images\n",
    "dataset = load_sample_images()"
   ]
  },
  {
   "cell_type": "code",
   "execution_count": 28,
   "metadata": {},
   "outputs": [
    {
     "data": {
      "text/plain": [
       "'Image: china.jpg\\nReleased under a creative commons license. [1]\\nAttribution: Some rights reserved by danielbuechele [2]\\nRetrieved 21st August, 2011 from [3] by Robert Layton\\n\\n[1] https://creativecommons.org/licenses/by/2.0/\\n[2] https://www.flickr.com/photos/danielbuechele/\\n[3] https://www.flickr.com/photos/danielbuechele/6061409035/sizes/z/in/photostream/\\n\\n\\nImage: flower.jpg\\nReleased under a creative commons license. [1]\\nAttribution: Some rights reserved by danielbuechele [2]\\nRetrieved 21st August, 2011 from [3] by Robert Layton\\n\\n[1] https://creativecommons.org/licenses/by/2.0/\\n[2] https://www.flickr.com/photos/vultilion/\\n[3] https://www.flickr.com/photos/vultilion/6056698931/sizes/z/in/photostream/\\n\\n\\n\\n'"
      ]
     },
     "execution_count": 28,
     "metadata": {},
     "output_type": "execute_result"
    }
   ],
   "source": [
    "dataset.DESCR"
   ]
  },
  {
   "cell_type": "code",
   "execution_count": 29,
   "metadata": {},
   "outputs": [],
   "source": [
    "def myplot(compressed_image):\n",
    "    plt.imshow(compressed_image)"
   ]
  },
  {
   "cell_type": "code",
   "execution_count": 30,
   "metadata": {
    "scrolled": false
   },
   "outputs": [
    {
     "data": {
      "application/vnd.jupyter.widget-view+json": {
       "model_id": "ea3f553073e2407e9ac92ac79a2c423e",
       "version_major": 2,
       "version_minor": 0
      },
      "text/plain": [
       "interactive(children=(Dropdown(description='ImageNumber', options=(0, 1), value=0), IntSlider(value=10, descri…"
      ]
     },
     "metadata": {},
     "output_type": "display_data"
    }
   ],
   "source": [
    "from __future__ import print_function\n",
    "from ipywidgets import interact, interactive, fixed, interact_manual\n",
    "import ipywidgets as widgets\n",
    "import matplotlib.pyplot as plt\n",
    "\n",
    "@interact(ImageNumber=range(len(dataset.images)), \n",
    "          n_components=widgets.IntSlider(min=1, max=70, step=1, value=10))\n",
    "def plot_compressed(ImageNumber,n_components):\n",
    "    image = dataset.images[ImageNumber]\n",
    "    compressed_image = compress(image, n_components=n_components)\n",
    "    fig = plt.figure(figsize=(15, 7))\n",
    "    myplot(compressed_image)\n",
    "    fig.canvas.draw()"
   ]
  },
  {
   "cell_type": "markdown",
   "metadata": {},
   "source": [
    "# Sounds\n",
    "The audio files in this notebook are from the ESC-50 dataset:\n",
    "\n",
    "- ESC-50: Dataset for Environmental Sound Classification\n",
    "- https://github.com/karoldvl/ESC-50/\n",
    "- https://dx.doi.org/10.7910/DVN/YDEPUT"
   ]
  },
  {
   "cell_type": "code",
   "execution_count": 31,
   "metadata": {},
   "outputs": [],
   "source": [
    "def load_audio_file(filepath):\n",
    "    # %%\n",
    "    y_multichannel, sr = lr.load(filepath, mono=False)\n",
    "    print(y_multichannel.shape)\n",
    "\n",
    "    if len(y_multichannel.shape)>1:\n",
    "        channels = [0]\n",
    "        y_channel_selection = y_multichannel[tuple([channels])]\n",
    "\n",
    "        y = np.mean(y_channel_selection, axis=0)\n",
    "    else:\n",
    "        y = np.array(y_multichannel)\n",
    "    \n",
    "    return y, sr"
   ]
  },
  {
   "cell_type": "code",
   "execution_count": 36,
   "metadata": {},
   "outputs": [
    {
     "name": "stdout",
     "output_type": "stream",
     "text": [
      "['sounds/can_opening/3-155659-A-34.wav', 'sounds/cats/2-82274-B-5.wav', 'sounds/cats/2-82274-A-5.wav']\n"
     ]
    },
    {
     "data": {
      "text/plain": [
       "<Figure size 1080x504 with 0 Axes>"
      ]
     },
     "metadata": {},
     "output_type": "display_data"
    },
    {
     "data": {
      "application/vnd.jupyter.widget-view+json": {
       "model_id": "24be0345c4904ca2a94e2318cf4ba446",
       "version_major": 2,
       "version_minor": 0
      },
      "text/plain": [
       "interactive(children=(Dropdown(description='x', options={'Cat 1': 'sounds/cats/2-82274-B-5.wav', 'Cat 2': 'sou…"
      ]
     },
     "metadata": {},
     "output_type": "display_data"
    }
   ],
   "source": [
    "# %%\n",
    "import pathlib\n",
    "import IPython\n",
    "import librosa as lr\n",
    "from glob import glob\n",
    "import numpy as np\n",
    "import matplotlib.pyplot as plt\n",
    "\n",
    "\n",
    "\n",
    "# files = glob(pathname='data/hitachi/0_db/slider/id_00/**/**.wav')\n",
    "files = glob(pathname='sounds/**/**.wav')\n",
    "print(files)\n",
    "filepath = files[0]\n",
    "\n",
    "# %%\n",
    "image_dict = {'Cat 1': files[1], 'Cat 2': files[2], 'Can opening':files[0]}\n",
    "@interact(x=image_dict,\n",
    "          plt=plt.figure(figsize=(15, 7))\n",
    "         )\n",
    "def myprint(x):\n",
    "    print(x)\n",
    "    y, sr = load_audio_file(x)\n",
    "    IPython.display.display(IPython.display.Audio(y, rate=sr))\n",
    "    \n",
    "    mysftf = lr.stft(y, n_fft= 1024, hop_length= 512)\n",
    "    \n",
    "    fig=plt.figure(figsize=(15, 7))\n",
    "    plot_spectrum(np.log(np.abs(mysftf)), 'Log of Absolute of Compressed')\n",
    "    fig.canvas.draw()\n"
   ]
  },
  {
   "cell_type": "code",
   "execution_count": 37,
   "metadata": {
    "scrolled": false
   },
   "outputs": [
    {
     "data": {
      "application/vnd.jupyter.widget-view+json": {
       "model_id": "6566dce2ddab4d4899c9b13f2aaa5f07",
       "version_major": 2,
       "version_minor": 0
      },
      "text/plain": [
       "interactive(children=(Dropdown(description='x', options={'Cat 1': 'sounds/cats/2-82274-B-5.wav', 'Cat 2': 'sou…"
      ]
     },
     "metadata": {},
     "output_type": "display_data"
    }
   ],
   "source": [
    "@interact(x=image_dict,\n",
    "          n_components=widgets.IntSlider(min=1, max=70, step=1, value=25))\n",
    "def myprint(x, n_components):\n",
    "    print(x)\n",
    "    y, sr = load_audio_file(x)\n",
    "    # IPython.display.display(IPython.display.Audio(y, rate=sr))\n",
    "    mysftf = lr.stft(y, n_fft= 1024, hop_length= 512)\n",
    "    # plot_spectrum(np.abs(mysftf), 'Absolute of Uncompressed')\n",
    "    # \n",
    "    \n",
    "    mysftf_compressed = compress_complex(mysftf, n_components=n_components, doplot=False)\n",
    "    \n",
    "    plt.figure(figsize=(15, 7))\n",
    "    plot_spectrum(np.log(np.abs(mysftf_compressed)), 'Log of Absolute of Compressed')\n",
    "\n",
    "    Original_memory = np.prod(mysftf_compressed.shape)\n",
    "    Compressed_memory = (1 + np.sum(mysftf_compressed.shape) ) * n_components\n",
    "    print(f'The compressed memory is roughly {100 * 2 * Compressed_memory / Original_memory:0.0f}% of the original')\n",
    "    y_inverted_sftf = lr.istft(mysftf_compressed, hop_length= 512)\n",
    "    IPython.display.display(IPython.display.Audio(y_inverted_sftf, rate=22050))\n",
    "    print('\\n')"
   ]
  },
  {
   "cell_type": "code",
   "execution_count": null,
   "metadata": {},
   "outputs": [],
   "source": []
  }
 ],
 "metadata": {
  "kernelspec": {
   "display_name": "Python 3.7.4 64-bit ('.venv': venv)",
   "language": "python",
   "name": "python37464bitvenvvenvc66bc2fda9c74bfbbe9556567278705b"
  },
  "language_info": {
   "codemirror_mode": {
    "name": "ipython",
    "version": 3
   },
   "file_extension": ".py",
   "mimetype": "text/x-python",
   "name": "python",
   "nbconvert_exporter": "python",
   "pygments_lexer": "ipython3",
   "version": "3.7.4"
  }
 },
 "nbformat": 4,
 "nbformat_minor": 4
}
