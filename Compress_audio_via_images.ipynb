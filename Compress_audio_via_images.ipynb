{
  "nbformat": 4,
  "nbformat_minor": 0,
  "metadata": {
    "kernelspec": {
      "display_name": "Python 3.7.4 64-bit ('.venv': venv)",
      "language": "python",
      "name": "python37464bitvenvvenvc66bc2fda9c74bfbbe9556567278705b"
    },
    "language_info": {
      "codemirror_mode": {
        "name": "ipython",
        "version": 3
      },
      "file_extension": ".py",
      "mimetype": "text/x-python",
      "name": "python",
      "nbconvert_exporter": "python",
      "pygments_lexer": "ipython3",
      "version": "3.7.4"
    },
    "colab": {
      "name": "Compress_audio_via_images.ipynb",
      "provenance": [],
      "include_colab_link": true
    }
  },
  "cells": [
    {
      "cell_type": "markdown",
      "metadata": {
        "id": "view-in-github",
        "colab_type": "text"
      },
      "source": [
        "<a href=\"https://colab.research.google.com/github/hfwittmann/sound/blob/master/Compress_audio_via_images.ipynb\" target=\"_parent\"><img src=\"https://colab.research.google.com/assets/colab-badge.svg\" alt=\"Open In Colab\"/></a>"
      ]
    },
    {
      "cell_type": "markdown",
      "metadata": {
        "id": "y_Tc5ooroE53",
        "colab_type": "text"
      },
      "source": [
        "In this notebook we will use image compression technique to compress audio signals.\n",
        "\n",
        "The audio files in this notebook are from the ESC-50 dataset:\n",
        "    - ESC-50: Dataset for Environmental Sound Classification\n",
        "    - https://github.com/karoldvl/ESC-50/\n",
        "    - https://dx.doi.org/10.7910/DVN/YDEPUT\n",
        "\n",
        "\n",
        "A good application of svd and a demo for images is here:\n",
        "http://timbaumann.info/svd-image-compression-demo/\n",
        "\n",
        "\n",
        "The outline is as follows:\n",
        "\n",
        "- Show a function that compresses an image (with a matrix based technique called svd)\n",
        "- Load "
      ]
    },
    {
      "cell_type": "code",
      "metadata": {
        "id": "Jk8vAjdPoE56",
        "colab_type": "code",
        "colab": {}
      },
      "source": [
        "# ‘gtk3’, ‘inline’, ‘ipympl’, ‘nbagg’, ‘notebook’, ‘osx’, ‘pdf’, ‘ps’, ‘qt’, ‘qt4’, ‘qt5’, ‘svg’, ‘tk’, ‘widget’, ‘wx’). "
      ],
      "execution_count": 0,
      "outputs": []
    },
    {
      "cell_type": "code",
      "metadata": {
        "id": "1tBZo4QKoE5_",
        "colab_type": "code",
        "colab": {}
      },
      "source": [
        "%matplotlib inline\n",
        "import numpy as np"
      ],
      "execution_count": 0,
      "outputs": []
    },
    {
      "cell_type": "markdown",
      "metadata": {
        "id": "Ct-MDjMXoE6D",
        "colab_type": "text"
      },
      "source": [
        "# Define plotting helper functions"
      ]
    },
    {
      "cell_type": "code",
      "metadata": {
        "id": "ju-TQYyzoE6F",
        "colab_type": "code",
        "colab": {}
      },
      "source": [
        "from librosa import display\n",
        "\n",
        "def plot_spectrum (data, name):\n",
        "    display.specshow(data, y_axis='log', x_axis='time')\n",
        "    plt.title(f'Power spectrogram of {name}')\n",
        "    plt.colorbar(format='%+2.0f dB')\n",
        "    plt.tight_layout()\n",
        "    # plt.show()"
      ],
      "execution_count": 0,
      "outputs": []
    },
    {
      "cell_type": "markdown",
      "metadata": {
        "id": "5z4O2rPVoE6I",
        "colab_type": "text"
      },
      "source": [
        "# Define compression helper functions"
      ]
    },
    {
      "cell_type": "code",
      "metadata": {
        "id": "N1F6N6DKoE6J",
        "colab_type": "code",
        "colab": {}
      },
      "source": [
        "random_seed = 0\n",
        "from sklearn.decomposition import TruncatedSVD\n",
        "np.random.seed(random_seed)\n",
        "\n",
        "def compress(imageIn, n_components=100,random_seed=0):\n",
        "    \n",
        "    image = imageIn\n",
        "    \n",
        "    if len (image.shape) == 2:\n",
        "        # print('Found Gray image')\n",
        "        image = image[:,:,np.newaxis] # Equivalent to x[:,np.newaxis]\n",
        "    \n",
        "    if len (image.shape) == 3:\n",
        "        # print('Found RGB image')\n",
        "        pass\n",
        "        \n",
        "    if len (image.shape) > 3:\n",
        "        raise('not sure what image type this')\n",
        "        \n",
        "    n_of_layers = image.shape[2]\n",
        "    \n",
        "    compressed_list = []\n",
        "    \n",
        "    for layer in range(n_of_layers):\n",
        "        # print(layer)\n",
        "        image_layer = image[:,:,layer] # ie r, g or b\n",
        "        \n",
        "        clf = TruncatedSVD(n_components=n_components)\n",
        "        clf.fit(image_layer)\n",
        "        compressed_layer = clf.inverse_transform(clf.transform(image_layer))\n",
        "        \n",
        "        compressed_list.append(compressed_layer)\n",
        "        \n",
        "        \n",
        "    compressed = np.stack(compressed_list, axis=2)\n",
        "    \n",
        "    \n",
        "    \n",
        "    # clip to expected range\n",
        "    compressed = np.clip(compressed, a_min=0, a_max=255)\n",
        "    \n",
        "    # cast to same dtype as original image\n",
        "    compressed = np.array(compressed, dtype = image.dtype)\n",
        "    \n",
        "    # reshape to original image size\n",
        "    compressed = compressed.reshape(imageIn.shape)\n",
        "    \n",
        "    return compressed"
      ],
      "execution_count": 0,
      "outputs": []
    },
    {
      "cell_type": "code",
      "metadata": {
        "id": "jgl8LvfioE6M",
        "colab_type": "code",
        "colab": {}
      },
      "source": [
        "def compress_complex(complex_image, n_components=100,random_seed=0, doplot=False):\n",
        "    '''\n",
        "    complex in the sense of complex numbers,\n",
        "    https://en.wikipedia.org/wiki/Complex_number\n",
        "    \n",
        "    ie having a real and an imaginary part\n",
        "    \n",
        "    '''\n",
        "    real = np.real(complex_image)\n",
        "    imag = np.imag(complex_image)\n",
        "    \n",
        "    compress_real = compress(real, n_components, random_seed)\n",
        "    compress_imag = compress(real, n_components, random_seed)\n",
        "    \n",
        "    if doplot:\n",
        "        plot_spectrum(real, 'Real Part')\n",
        "        plot_spectrum(compress_real, 'Real Part Compressed')\n",
        "        \n",
        "        plot_spectrum(imag, 'Imaginary Part')\n",
        "        plot_spectrum(compress_imag, 'Imaginary Part Compressed')\n",
        "    \n",
        "    compressed = compress_real + 1j * compress_imag\n",
        "    return compressed\n",
        "    "
      ],
      "execution_count": 0,
      "outputs": []
    },
    {
      "cell_type": "markdown",
      "metadata": {
        "id": "3JdtTmAdoE6P",
        "colab_type": "text"
      },
      "source": [
        "# Compress Images"
      ]
    },
    {
      "cell_type": "code",
      "metadata": {
        "id": "b1Vt75X2oE6Q",
        "colab_type": "code",
        "colab": {}
      },
      "source": [
        "from sklearn.datasets import load_sample_images\n",
        "dataset = load_sample_images()"
      ],
      "execution_count": 0,
      "outputs": []
    },
    {
      "cell_type": "code",
      "metadata": {
        "id": "DsgNwMVvoE6U",
        "colab_type": "code",
        "colab": {},
        "outputId": "1510c7c0-650e-47c7-a278-564426154a17"
      },
      "source": [
        "dataset.DESCR"
      ],
      "execution_count": 0,
      "outputs": [
        {
          "output_type": "execute_result",
          "data": {
            "text/plain": [
              "'Image: china.jpg\\nReleased under a creative commons license. [1]\\nAttribution: Some rights reserved by danielbuechele [2]\\nRetrieved 21st August, 2011 from [3] by Robert Layton\\n\\n[1] https://creativecommons.org/licenses/by/2.0/\\n[2] https://www.flickr.com/photos/danielbuechele/\\n[3] https://www.flickr.com/photos/danielbuechele/6061409035/sizes/z/in/photostream/\\n\\n\\nImage: flower.jpg\\nReleased under a creative commons license. [1]\\nAttribution: Some rights reserved by danielbuechele [2]\\nRetrieved 21st August, 2011 from [3] by Robert Layton\\n\\n[1] https://creativecommons.org/licenses/by/2.0/\\n[2] https://www.flickr.com/photos/vultilion/\\n[3] https://www.flickr.com/photos/vultilion/6056698931/sizes/z/in/photostream/\\n\\n\\n\\n'"
            ]
          },
          "metadata": {
            "tags": []
          },
          "execution_count": 16
        }
      ]
    },
    {
      "cell_type": "code",
      "metadata": {
        "id": "O1-q1eO0oE6X",
        "colab_type": "code",
        "colab": {}
      },
      "source": [
        "def myplot(compressed_image):\n",
        "    plt.imshow(compressed_image)"
      ],
      "execution_count": 0,
      "outputs": []
    },
    {
      "cell_type": "code",
      "metadata": {
        "id": "5YZCk_NHoE6b",
        "colab_type": "code",
        "colab": {
          "referenced_widgets": [
            "f5df5b26ae0c411fa3b6b064795dafc8"
          ]
        },
        "outputId": "c0957f54-b449-48f2-d2a0-9c46542435be"
      },
      "source": [
        "from __future__ import print_function\n",
        "from ipywidgets import interact, interactive, fixed, interact_manual\n",
        "import ipywidgets as widgets\n",
        "import matplotlib.pyplot as plt\n",
        "\n",
        "@interact(ImageNumber=range(len(dataset.images)), \n",
        "          n_components=[1,2,5,10,20,50])\n",
        "def plot_compressed(ImageNumber,n_components=5):\n",
        "    image = dataset.images[ImageNumber]\n",
        "    compressed_image = compress(image, n_components=n_components)\n",
        "    plt.figure(figsize=(20, 8))\n",
        "    myplot(compressed_image)"
      ],
      "execution_count": 0,
      "outputs": [
        {
          "output_type": "display_data",
          "data": {
            "application/vnd.jupyter.widget-view+json": {
              "model_id": "f5df5b26ae0c411fa3b6b064795dafc8",
              "version_major": 2,
              "version_minor": 0
            },
            "text/plain": [
              "interactive(children=(Dropdown(description='ImageNumber', options=(0, 1), value=0), Dropdown(description='n_co…"
            ]
          },
          "metadata": {
            "tags": []
          }
        }
      ]
    },
    {
      "cell_type": "markdown",
      "metadata": {
        "id": "Y6RDDILZoE6d",
        "colab_type": "text"
      },
      "source": [
        "# Sounds\n",
        "The audio files in this notebook are from the ESC-50 dataset:\n",
        "\n",
        "- ESC-50: Dataset for Environmental Sound Classification\n",
        "- https://github.com/karoldvl/ESC-50/\n",
        "- https://dx.doi.org/10.7910/DVN/YDEPUT"
      ]
    },
    {
      "cell_type": "code",
      "metadata": {
        "id": "FwudiHI7oE6e",
        "colab_type": "code",
        "colab": {}
      },
      "source": [
        "def load_audio_file(filepath):\n",
        "    # %%\n",
        "    y_multichannel, sr = lr.load(filepath, mono=False)\n",
        "    print(y_multichannel.shape)\n",
        "\n",
        "    if len(y_multichannel.shape)>1:\n",
        "        channels = [0]\n",
        "        y_channel_selection = y_multichannel[tuple([channels])]\n",
        "\n",
        "        y = np.mean(y_channel_selection, axis=0)\n",
        "    else:\n",
        "        y = np.array(y_multichannel)\n",
        "    \n",
        "    return y, sr"
      ],
      "execution_count": 0,
      "outputs": []
    },
    {
      "cell_type": "code",
      "metadata": {
        "id": "LhwqWOZWoE6h",
        "colab_type": "code",
        "colab": {
          "referenced_widgets": [
            "aa9e4a8f97c145d5b266589f55dd0113"
          ]
        },
        "outputId": "10f104fb-693c-4055-8e48-fd4992b6616b"
      },
      "source": [
        "import pathlib\n",
        "import IPython\n",
        "import librosa as lr\n",
        "from glob import glob\n",
        "import numpy as np\n",
        "import matplotlib.pyplot as plt\n",
        "\n",
        "\n",
        "\n",
        "# files = glob(pathname='data/hitachi/0_db/slider/id_00/**/**.wav')\n",
        "files = glob(pathname='sounds/**/**.wav')\n",
        "print(files)\n",
        "filepath = files[0]\n",
        "\n",
        "# %%\n",
        "image_dict = {'Cat 1': files[1], 'Cat 2': files[2], 'Can opening':files[0]}\n",
        "@interact(x=image_dict,\n",
        "          plt=plt.figure(figsize=(15, 7))\n",
        "         )\n",
        "def myprint(x):\n",
        "    print(x)\n",
        "    y, sr = load_audio_file(x)\n",
        "    IPython.display.display(IPython.display.Audio(y, rate=sr))\n",
        "    \n",
        "    mysftf = lr.stft(y, n_fft= 1024, hop_length= 512)\n",
        "    \n",
        "    plt.figure(figsize=(15, 7))\n",
        "    plot_spectrum(np.log(np.abs(mysftf)), 'Log of Absolute of Compressed')\n"
      ],
      "execution_count": 0,
      "outputs": [
        {
          "output_type": "stream",
          "text": [
            "['sounds/can_opening/3-155659-A-34.wav', 'sounds/cats/2-82274-B-5.wav', 'sounds/cats/2-82274-A-5.wav']\n"
          ],
          "name": "stdout"
        },
        {
          "output_type": "display_data",
          "data": {
            "text/plain": [
              "<Figure size 1080x504 with 0 Axes>"
            ]
          },
          "metadata": {
            "tags": []
          }
        },
        {
          "output_type": "display_data",
          "data": {
            "application/vnd.jupyter.widget-view+json": {
              "model_id": "aa9e4a8f97c145d5b266589f55dd0113",
              "version_major": 2,
              "version_minor": 0
            },
            "text/plain": [
              "interactive(children=(Dropdown(description='x', options={'Cat 1': 'sounds/cats/2-82274-B-5.wav', 'Cat 2': 'sou…"
            ]
          },
          "metadata": {
            "tags": []
          }
        }
      ]
    },
    {
      "cell_type": "code",
      "metadata": {
        "id": "CMmhP0e7oE6k",
        "colab_type": "code",
        "colab": {
          "referenced_widgets": [
            "c3aa01eb8cea4be29b1043b50cf13804"
          ]
        },
        "outputId": "423f1d69-c525-48b7-a737-cb0bd7a66bd2"
      },
      "source": [
        "@interact(x=image_dict,\n",
        "          n_components=[1,2,5,10,20,50])\n",
        "def myprint(x, n_components):\n",
        "    print(x)\n",
        "    y, sr = load_audio_file(x)\n",
        "    # IPython.display.display(IPython.display.Audio(y, rate=sr))\n",
        "    mysftf = lr.stft(y, n_fft= 1024, hop_length= 512)\n",
        "    # plot_spectrum(np.abs(mysftf), 'Absolute of Uncompressed')\n",
        "    # \n",
        "    \n",
        "    mysftf_compressed = compress_complex(mysftf, n_components=n_components, doplot=False)\n",
        "    \n",
        "    plt.figure(figsize=(15, 7))\n",
        "    plot_spectrum(np.log(np.abs(mysftf_compressed)), 'Log of Absolute of Compressed')\n",
        "\n",
        "    Original_memory = np.prod(mysftf_compressed.shape)\n",
        "    Compressed_memory = (1 + np.sum(mysftf_compressed.shape) ) * n_components\n",
        "    print(f'The compressed memory is roughly {100 * 2 * Compressed_memory / Original_memory:0.0f}% of the original')\n",
        "    y_inverted_sftf = lr.istft(mysftf_compressed, hop_length= 512)\n",
        "    IPython.display.display(IPython.display.Audio(y_inverted_sftf, rate=22050))\n",
        "    print('\\n')"
      ],
      "execution_count": 0,
      "outputs": [
        {
          "output_type": "display_data",
          "data": {
            "application/vnd.jupyter.widget-view+json": {
              "model_id": "c3aa01eb8cea4be29b1043b50cf13804",
              "version_major": 2,
              "version_minor": 0
            },
            "text/plain": [
              "interactive(children=(Dropdown(description='x', options={'Cat 1': 'sounds/cats/2-82274-B-5.wav', 'Cat 2': 'sou…"
            ]
          },
          "metadata": {
            "tags": []
          }
        }
      ]
    },
    {
      "cell_type": "code",
      "metadata": {
        "id": "FXoTpVyHoE6n",
        "colab_type": "code",
        "colab": {}
      },
      "source": [
        ""
      ],
      "execution_count": 0,
      "outputs": []
    },
    {
      "cell_type": "code",
      "metadata": {
        "id": "D735R7SooE6q",
        "colab_type": "code",
        "colab": {}
      },
      "source": [
        ""
      ],
      "execution_count": 0,
      "outputs": []
    },
    {
      "cell_type": "code",
      "metadata": {
        "id": "zaUAiap9oE6s",
        "colab_type": "code",
        "colab": {}
      },
      "source": [
        ""
      ],
      "execution_count": 0,
      "outputs": []
    }
  ]
}